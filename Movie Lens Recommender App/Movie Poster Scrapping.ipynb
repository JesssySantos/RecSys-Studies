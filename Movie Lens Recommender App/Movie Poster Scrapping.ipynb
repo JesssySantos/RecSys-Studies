{
 "cells": [
  {
   "cell_type": "code",
   "execution_count": 21,
   "id": "1a537e73",
   "metadata": {},
   "outputs": [],
   "source": [
    "import csv\n",
    "import requests\n",
    "from bs4 import BeautifulSoup"
   ]
  },
  {
   "cell_type": "code",
   "execution_count": 9,
   "id": "babdeefb",
   "metadata": {},
   "outputs": [],
   "source": [
    "DATA_FOLDER = \"../ml-latest-small/\""
   ]
  },
  {
   "cell_type": "code",
   "execution_count": 41,
   "id": "f16b0848",
   "metadata": {},
   "outputs": [],
   "source": [
    "headers = {\n",
    "    'User-Agent': 'Mozilla/5.0 (Windows NT 10.0; Win64; x64; rv:106.0) Gecko/20100101 Firefox/106.0',\n",
    "    'Accept': 'text/html,application/xhtml+xml,application/xml;q=0.9,image/avif,image/webp,*/*;q=0.8',\n",
    "    'Accept-Language': 'en-US,en;q=0.5',\n",
    "    # 'Accept-Encoding': 'gzip, deflate, br',\n",
    "    'DNT': '1',\n",
    "    'Connection': 'keep-alive',\n",
    "    'Upgrade-Insecure-Requests': '1',\n",
    "    'Sec-Fetch-Dest': 'document',\n",
    "    'Sec-Fetch-Mode': 'navigate',\n",
    "    'Sec-Fetch-Site': 'none',\n",
    "    'Sec-Fetch-User': '?1',\n",
    "}"
   ]
  },
  {
   "cell_type": "code",
   "execution_count": 48,
   "id": "962a3617",
   "metadata": {},
   "outputs": [
    {
     "name": "stdout",
     "output_type": "stream",
     "text": [
      "http://www.imdb.com/find?q=Toy+Story+%281995%29\n"
     ]
    }
   ],
   "source": [
    "for row in df_movies.iterrows():\n",
    "    movie_id = row[1]['movieId']\n",
    "    movie_title = row[1]['title']\n",
    "    domain = 'http://www.imdb.com'\n",
    "    search_url = domain + '/find?q=' + urllib.parse.quote_plus(movie_title)\n",
    "    request = requests.get(search_url, headers=headers)\n",
    "    print(search_url)\n",
    "    break"
   ]
  },
  {
   "cell_type": "code",
   "execution_count": null,
   "id": "fa5a9bd7",
   "metadata": {},
   "outputs": [
    {
     "name": "stdout",
     "output_type": "stream",
     "text": [
      "http://www.imdb.com/find?q=Toy+Story+%281995%29\n",
      "http://www.imdb.com/find?q=Jumanji+%281995%29\n",
      "http://www.imdb.com/find?q=Grumpier+Old+Men+%281995%29\n",
      "http://www.imdb.com/find?q=Waiting+to+Exhale+%281995%29\n",
      "http://www.imdb.com/find?q=Father+of+the+Bride+Part+II+%281995%29\n",
      "http://www.imdb.com/find?q=Heat+%281995%29\n",
      "http://www.imdb.com/find?q=Sabrina+%281995%29\n",
      "http://www.imdb.com/find?q=Tom+and+Huck+%281995%29\n",
      "http://www.imdb.com/find?q=Sudden+Death+%281995%29\n",
      "http://www.imdb.com/find?q=GoldenEye+%281995%29\n",
      "http://www.imdb.com/find?q=American+President%2C+The+%281995%29\n",
      "http://www.imdb.com/find?q=Dracula%3A+Dead+and+Loving+It+%281995%29\n",
      "http://www.imdb.com/find?q=Balto+%281995%29\n",
      "http://www.imdb.com/find?q=Nixon+%281995%29\n",
      "http://www.imdb.com/find?q=Cutthroat+Island+%281995%29\n",
      "http://www.imdb.com/find?q=Casino+%281995%29\n",
      "http://www.imdb.com/find?q=Sense+and+Sensibility+%281995%29\n",
      "http://www.imdb.com/find?q=Four+Rooms+%281995%29\n",
      "http://www.imdb.com/find?q=Ace+Ventura%3A+When+Nature+Calls+%281995%29\n"
     ]
    }
   ],
   "source": [
    "row_names = ['movie_id', 'movie_title']\n",
    "df_movies = pd.read_csv(DATA_FOLDER + \"movies.csv\")\n",
    "for row in df_movies.iterrows():\n",
    "    movie_id = row[1]['movieId']\n",
    "    movie_title = row[1]['title']\n",
    "    domain = 'http://www.imdb.com'\n",
    "    search_url = domain + '/find?q=' + urllib.parse.quote_plus(movie_title)\n",
    "    print(search_url)\n",
    "    with requests.get(search_url, headers=headers) as request:\n",
    "        html = request.text\n",
    "        soup = BeautifulSoup(html, 'html.parser')\n",
    "        # Get url of 1st search result\n",
    "        try:\n",
    "            title = soup.find('table', class_='findList').tr.a['href']\n",
    "            movie_url = domain + title\n",
    "            with open('movie_posters_v2.csv', 'a', newline='') as out_csv:\n",
    "                writer = csv.writer(out_csv, delimiter=',')\n",
    "                writer.writerow([movie_id, movie_url])\n",
    "        # Ignore cases where search returns no results\n",
    "        except AttributeError:\n",
    "            pass"
   ]
  },
  {
   "cell_type": "code",
   "execution_count": null,
   "id": "21834f47",
   "metadata": {},
   "outputs": [],
   "source": []
  }
 ],
 "metadata": {
  "kernelspec": {
   "display_name": "Python 3 (ipykernel)",
   "language": "python",
   "name": "python3"
  },
  "language_info": {
   "codemirror_mode": {
    "name": "ipython",
    "version": 3
   },
   "file_extension": ".py",
   "mimetype": "text/x-python",
   "name": "python",
   "nbconvert_exporter": "python",
   "pygments_lexer": "ipython3",
   "version": "3.9.7"
  }
 },
 "nbformat": 4,
 "nbformat_minor": 5
}
